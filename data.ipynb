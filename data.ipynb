{
 "cells": [
  {
   "cell_type": "markdown",
   "id": "c6a4d000",
   "metadata": {},
   "source": [
    "## Loading Data"
   ]
  },
  {
   "cell_type": "code",
   "execution_count": 1,
   "id": "2d8dfc0c",
   "metadata": {},
   "outputs": [],
   "source": [
    "import pandas as pd\n",
    "import os\n",
    "from src.data_processing import load_dfs, create_combined_df"
   ]
  },
  {
   "cell_type": "code",
   "execution_count": 2,
   "id": "64729815",
   "metadata": {},
   "outputs": [
    {
     "name": "stdout",
     "output_type": "stream",
     "text": [
      "Loaded 2018.csv with 112 rows. Null Entries: 0\n",
      "Loaded 2019.csv with 154 rows. Null Entries: 0\n",
      "Loaded 2020.csv with 109 rows. Null Entries: 0\n",
      "Loaded 2021.csv with 251 rows. Null Entries: 0\n",
      "Loaded 2022.csv with 213 rows. Null Entries: 0\n",
      "Loaded 2023.csv with 296 rows. Null Entries: 0\n",
      "Loaded 2024.csv with 216 rows. Null Entries: 0\n"
     ]
    }
   ],
   "source": [
    "dfs = load_dfs()"
   ]
  },
  {
   "cell_type": "code",
   "execution_count": 3,
   "id": "522e2ac1",
   "metadata": {},
   "outputs": [
    {
     "name": "stdout",
     "output_type": "stream",
     "text": [
      "Combined Null Entries: 0\n"
     ]
    }
   ],
   "source": [
    "df_combined = create_combined_df(dfs)\n",
    "df_combined.to_csv(\"data/combined.csv\", index=False, encoding=\"utf-8\")\n",
    "print(f\"Combined Null Entries: {df_combined.isnull().sum().sum()}\")"
   ]
  },
  {
   "cell_type": "markdown",
   "id": "19bd79f4",
   "metadata": {},
   "source": [
    "## Create categories"
   ]
  },
  {
   "cell_type": "code",
   "execution_count": 4,
   "id": "ab858cf9",
   "metadata": {},
   "outputs": [],
   "source": [
    "from openai import OpenAI\n",
    "from src.data_classification import generate_categories"
   ]
  },
  {
   "cell_type": "code",
   "execution_count": 5,
   "id": "f55eca97",
   "metadata": {},
   "outputs": [],
   "source": [
    "api_key = input(\"Enter your OpenAI API key: \")\n",
    "client = OpenAI(api_key=api_key)\n",
    "items = df_combined['Item'].unique()"
   ]
  },
  {
   "cell_type": "code",
   "execution_count": 6,
   "id": "d655307e",
   "metadata": {},
   "outputs": [
    {
     "name": "stdout",
     "output_type": "stream",
     "text": [
      "Certainly! Here is a practical set of categories for your purchases:\n",
      "\n",
      "Category Details:\n",
      "- **Food & Beverages**: This category includes all purchases related to meals, snacks, and drinks, whether consumed at home or outside.  \n",
      "  Example items (Only 3): Chicken Chop (AMK HUB), Coke (Cheers), Pizza and Coke (Pezzo)\n",
      "\n",
      "- **Digital Subscriptions & Services**: This includes recurring digital services and software subscriptions.  \n",
      "  Example items (Only 3): Netflix Subscription, Spotify Premium Subscription, Adobe Creative Cloud (Student Plan)\n",
      "\n",
      "- **Books & Literature**: This category covers all book purchases, including novels, educational books, and manga/light novels.  \n",
      "  Example items (Only 3): Halo: Legacy of Onyx (Book), The Last Wish (Book), Sword Art Online Progressive 5 (Kindle)\n",
      "\n",
      "- **Gaming**: This includes video games, in-game purchases, and gaming-related subscriptions.  \n",
      "  Example items (Only 3): $100 Xbox Gift Card, Destiny 2 - 3000 Silver, Borderlands 3 (Digital)\n",
      "\n",
      "- **Collectibles**: Items intended for collection, such as special edition memorabilia, pins, and themed artbooks.  \n",
      "  Example items (Only 3): The Art of Halo 5: Guardians, Season of the Splicer Pin, Commemorative Coins\n",
      "\n",
      "- **Electronics & Accessories**: This includes gadgets, electronic accessories, and related peripherals.  \n",
      "  Example items (Only 3): iLuv Earpiece, Seagate 1TB Hard drive, Bluetooth Headset\n",
      "\n",
      "- **Health, Fitness & Personal Care**: This category combines purchases related to health, fitness, and personal grooming.  \n",
      "  Example items (Only 3): Hair Cut, Doctor Consultation, Fitness Tracker\n",
      "\n",
      "- **Apparel & Accessories**: This includes clothing and wearable accessories.  \n",
      "  Example items (Only 3): Underwear 5pc, Socks x5, Traveler Shirt\n",
      "\n",
      "- **Stationery & Office Supplies**: This covers all purchases related to stationery and office supplies.  \n",
      "  Example items (Only 3): Notepad and Erasers, Journal, Notebook + Pen\n",
      "\n",
      "- **Miscellaneous**: This category includes items that do not fit neatly into other categories, such as household items and miscellaneous expenses.  \n",
      "  Example items (Only 3): Unaccounted for $4, Umbrella, Towel\n",
      "\n",
      "These categories should help you organize your spending in a clear and intuitive manner.\n"
     ]
    }
   ],
   "source": [
    "lines = generate_categories(client, items).split(\"\\n\")\n",
    "for line in lines:\n",
    "    print(line)"
   ]
  },
  {
   "cell_type": "markdown",
   "id": "655ea9c4",
   "metadata": {},
   "source": [
    "## Update CSVs with new categories"
   ]
  },
  {
   "cell_type": "code",
   "execution_count": 6,
   "id": "c5e6246e",
   "metadata": {},
   "outputs": [
    {
     "data": {
      "text/html": [
       "<div>\n",
       "<style scoped>\n",
       "    .dataframe tbody tr th:only-of-type {\n",
       "        vertical-align: middle;\n",
       "    }\n",
       "\n",
       "    .dataframe tbody tr th {\n",
       "        vertical-align: top;\n",
       "    }\n",
       "\n",
       "    .dataframe thead th {\n",
       "        text-align: right;\n",
       "    }\n",
       "</style>\n",
       "<table border=\"1\" class=\"dataframe\">\n",
       "  <thead>\n",
       "    <tr style=\"text-align: right;\">\n",
       "      <th></th>\n",
       "      <th>Category</th>\n",
       "      <th>Description</th>\n",
       "      <th>Examples</th>\n",
       "    </tr>\n",
       "  </thead>\n",
       "  <tbody>\n",
       "    <tr>\n",
       "      <th>0</th>\n",
       "      <td>Food &amp; Beverages</td>\n",
       "      <td>Items related to meals, snacks, and drinks — i...</td>\n",
       "      <td>McDonalds, Waffle (NYP), Coke</td>\n",
       "    </tr>\n",
       "    <tr>\n",
       "      <th>1</th>\n",
       "      <td>Books &amp; Literature</td>\n",
       "      <td>Physical and digital books, including manga, l...</td>\n",
       "      <td>Sword Art Online Progressive (Kindle), The Las...</td>\n",
       "    </tr>\n",
       "    <tr>\n",
       "      <th>2</th>\n",
       "      <td>Gaming</td>\n",
       "      <td>Video games (digital or physical), in-game pur...</td>\n",
       "      <td>Destiny 2 - 3000 Silver, Xbox Series X, Border...</td>\n",
       "    </tr>\n",
       "    <tr>\n",
       "      <th>3</th>\n",
       "      <td>Digital Subscriptions</td>\n",
       "      <td>Recurring or one-time payments for digital ser...</td>\n",
       "      <td>Netflix Subscription, Adobe Creative Cloud, Sp...</td>\n",
       "    </tr>\n",
       "    <tr>\n",
       "      <th>4</th>\n",
       "      <td>Entertainment</td>\n",
       "      <td>Movies (tickets, rentals, DVDs), non-gaming me...</td>\n",
       "      <td>Avengers Tickets, Thor: Ragnarok DVD, Solo: A ...</td>\n",
       "    </tr>\n",
       "  </tbody>\n",
       "</table>\n",
       "</div>"
      ],
      "text/plain": [
       "                Category                                        Description  \\\n",
       "0       Food & Beverages  Items related to meals, snacks, and drinks — i...   \n",
       "1     Books & Literature  Physical and digital books, including manga, l...   \n",
       "2                 Gaming  Video games (digital or physical), in-game pur...   \n",
       "3  Digital Subscriptions  Recurring or one-time payments for digital ser...   \n",
       "4          Entertainment  Movies (tickets, rentals, DVDs), non-gaming me...   \n",
       "\n",
       "                                            Examples  \n",
       "0                      McDonalds, Waffle (NYP), Coke  \n",
       "1  Sword Art Online Progressive (Kindle), The Las...  \n",
       "2  Destiny 2 - 3000 Silver, Xbox Series X, Border...  \n",
       "3  Netflix Subscription, Adobe Creative Cloud, Sp...  \n",
       "4  Avengers Tickets, Thor: Ragnarok DVD, Solo: A ...  "
      ]
     },
     "execution_count": 6,
     "metadata": {},
     "output_type": "execute_result"
    }
   ],
   "source": [
    "metadata_df = pd.read_csv(\"metadata/categories.csv\", encoding=\"utf-8\")\n",
    "metadata_df.head()"
   ]
  },
  {
   "cell_type": "code",
   "execution_count": 7,
   "id": "13e4c1e2",
   "metadata": {},
   "outputs": [
    {
     "name": "stdout",
     "output_type": "stream",
     "text": [
      "**Food & Beverages**: Items related to meals, snacks, and drinks — including dining out, takeaway, and groceries.\n",
      "    Example items (Only 3): McDonalds, Waffle (NYP), Coke\n"
     ]
    }
   ],
   "source": [
    "categories = []\n",
    "for index, row in metadata_df.iterrows():\n",
    "    name = row[\"Category\"]\n",
    "    description = row[\"Description\"]\n",
    "    example = row[\"Examples\"]\n",
    "    \n",
    "    category_string = f\"\"\"**{name}**: {description}\n",
    "    Example items (Only 3): {example}\"\"\"\n",
    "    categories.append(category_string)\n",
    "    \n",
    "for category in categories:\n",
    "    print(category)\n",
    "    break"
   ]
  },
  {
   "cell_type": "code",
   "execution_count": 8,
   "id": "f50ee730",
   "metadata": {},
   "outputs": [],
   "source": [
    "from src.data_classification import classify_item, classify_items_in_df\n",
    "category_string = \"\\n\".join(categories)"
   ]
  },
  {
   "cell_type": "code",
   "execution_count": 10,
   "id": "d11173fe",
   "metadata": {},
   "outputs": [
    {
     "name": "stdout",
     "output_type": "stream",
     "text": [
      "Gaming\n",
      "Collectibles\n",
      "Books & Literature\n",
      "Digital Subscriptions\n",
      "Digital Subscriptions\n",
      "Gaming\n",
      "Digital Subscriptions\n",
      "Digital Subscriptions\n",
      "Miscellaneous\n",
      "Electronics & Accessories\n"
     ]
    }
   ],
   "source": [
    "print(classify_item(client, \"Nintendo Switch\", category_string))\n",
    "print(classify_item(client, \"Halo 4 Artbook\", category_string))\n",
    "print(classify_item(client, \"Too Many Losing Heroines!!! 7\", category_string))\n",
    "print(classify_item(client, \"Spotify\", category_string))\n",
    "print(classify_item(client, \"Google Cloud Bill\", category_string))\n",
    "print(classify_item(client, \"Xbox Series S SSD\", category_string))\n",
    "print(classify_item(client, \"Adobe Premiere Pro\", category_string))\n",
    "print(classify_item(client, \"Creative Cloud\", category_string))\n",
    "print(classify_item(client, \"Notebook\", category_string))\n",
    "print(classify_item(client, \"1TB NVMe\", category_string))"
   ]
  },
  {
   "cell_type": "code",
   "execution_count": 9,
   "id": "d2a64236",
   "metadata": {},
   "outputs": [
    {
     "name": "stderr",
     "output_type": "stream",
     "text": [
      "Processing data\\2018.csv: 100%|██████████| 112/112 [01:10<00:00,  1.58row/s]\n",
      "Processing data\\2019.csv: 100%|██████████| 154/154 [01:57<00:00,  1.31row/s]\n",
      "Processing data\\2020.csv: 100%|██████████| 109/109 [01:22<00:00,  1.32row/s]\n",
      "Processing data\\2021.csv: 100%|██████████| 251/251 [03:11<00:00,  1.31row/s]\n",
      "Processing data\\2022.csv: 100%|██████████| 213/213 [02:45<00:00,  1.28row/s]\n",
      "Processing data\\2023.csv: 100%|██████████| 296/296 [03:34<00:00,  1.38row/s]\n",
      "Processing data\\2024.csv: 100%|██████████| 216/216 [02:29<00:00,  1.44row/s]\n"
     ]
    }
   ],
   "source": [
    "for year, df in dfs.items():\n",
    "    path = os.path.join(\"data\", year + \".csv\")\n",
    "    df = classify_items_in_df(client, df, category_string, output_path=path)\n",
    "    df.to_csv(path, index=False, encoding=\"utf-8\")"
   ]
  }
 ],
 "metadata": {
  "kernelspec": {
   "display_name": "venv",
   "language": "python",
   "name": "python3"
  },
  "language_info": {
   "codemirror_mode": {
    "name": "ipython",
    "version": 3
   },
   "file_extension": ".py",
   "mimetype": "text/x-python",
   "name": "python",
   "nbconvert_exporter": "python",
   "pygments_lexer": "ipython3",
   "version": "3.11.5"
  }
 },
 "nbformat": 4,
 "nbformat_minor": 5
}
