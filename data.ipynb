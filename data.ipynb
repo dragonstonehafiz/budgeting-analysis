{
 "cells": [
  {
   "cell_type": "markdown",
   "id": "c6a4d000",
   "metadata": {},
   "source": [
    "## Loading Data"
   ]
  },
  {
   "cell_type": "code",
   "execution_count": 1,
   "id": "2d8dfc0c",
   "metadata": {},
   "outputs": [],
   "source": [
    "from src.data_processing import load_df\n",
    "from src.data_classification import classify_item, create_category_string\n",
    "from openai import OpenAI"
   ]
  },
  {
   "cell_type": "code",
   "execution_count": 2,
   "id": "259cac40",
   "metadata": {},
   "outputs": [
    {
     "data": {
      "text/html": [
       "<div>\n",
       "<style scoped>\n",
       "    .dataframe tbody tr th:only-of-type {\n",
       "        vertical-align: middle;\n",
       "    }\n",
       "\n",
       "    .dataframe tbody tr th {\n",
       "        vertical-align: top;\n",
       "    }\n",
       "\n",
       "    .dataframe thead th {\n",
       "        text-align: right;\n",
       "    }\n",
       "</style>\n",
       "<table border=\"1\" class=\"dataframe\">\n",
       "  <thead>\n",
       "    <tr style=\"text-align: right;\">\n",
       "      <th></th>\n",
       "      <th>Item</th>\n",
       "      <th>Category</th>\n",
       "      <th>Cost</th>\n",
       "      <th>Date</th>\n",
       "      <th>Month</th>\n",
       "      <th>MonthNum</th>\n",
       "      <th>Year</th>\n",
       "    </tr>\n",
       "  </thead>\n",
       "  <tbody>\n",
       "    <tr>\n",
       "      <th>0</th>\n",
       "      <td>iLuv Earpiece</td>\n",
       "      <td>Electronics &amp; Accessories</td>\n",
       "      <td>15.9</td>\n",
       "      <td>2018-04-15</td>\n",
       "      <td>April</td>\n",
       "      <td>4</td>\n",
       "      <td>2018</td>\n",
       "    </tr>\n",
       "    <tr>\n",
       "      <th>1</th>\n",
       "      <td>Waffle (NYP)</td>\n",
       "      <td>Food &amp; Beverages</td>\n",
       "      <td>1.0</td>\n",
       "      <td>2018-04-18</td>\n",
       "      <td>April</td>\n",
       "      <td>4</td>\n",
       "      <td>2018</td>\n",
       "    </tr>\n",
       "    <tr>\n",
       "      <th>2</th>\n",
       "      <td>Coke</td>\n",
       "      <td>Food &amp; Beverages</td>\n",
       "      <td>1.1</td>\n",
       "      <td>2018-04-18</td>\n",
       "      <td>April</td>\n",
       "      <td>4</td>\n",
       "      <td>2018</td>\n",
       "    </tr>\n",
       "    <tr>\n",
       "      <th>3</th>\n",
       "      <td>Coke</td>\n",
       "      <td>Food &amp; Beverages</td>\n",
       "      <td>1.1</td>\n",
       "      <td>2018-04-19</td>\n",
       "      <td>April</td>\n",
       "      <td>4</td>\n",
       "      <td>2018</td>\n",
       "    </tr>\n",
       "    <tr>\n",
       "      <th>4</th>\n",
       "      <td>Chicken Chop (AMK HUB)</td>\n",
       "      <td>Food &amp; Beverages</td>\n",
       "      <td>7.8</td>\n",
       "      <td>2018-04-19</td>\n",
       "      <td>April</td>\n",
       "      <td>4</td>\n",
       "      <td>2018</td>\n",
       "    </tr>\n",
       "  </tbody>\n",
       "</table>\n",
       "</div>"
      ],
      "text/plain": [
       "                     Item                   Category  Cost       Date  Month  \\\n",
       "0           iLuv Earpiece  Electronics & Accessories  15.9 2018-04-15  April   \n",
       "1            Waffle (NYP)           Food & Beverages   1.0 2018-04-18  April   \n",
       "2                    Coke           Food & Beverages   1.1 2018-04-18  April   \n",
       "3                    Coke           Food & Beverages   1.1 2018-04-19  April   \n",
       "4  Chicken Chop (AMK HUB)           Food & Beverages   7.8 2018-04-19  April   \n",
       "\n",
       "   MonthNum  Year  \n",
       "0         4  2018  \n",
       "1         4  2018  \n",
       "2         4  2018  \n",
       "3         4  2018  \n",
       "4         4  2018  "
      ]
     },
     "execution_count": 2,
     "metadata": {},
     "output_type": "execute_result"
    }
   ],
   "source": [
    "df = load_df()\n",
    "df.head()"
   ]
  },
  {
   "cell_type": "code",
   "execution_count": 3,
   "id": "522e2ac1",
   "metadata": {},
   "outputs": [
    {
     "name": "stdout",
     "output_type": "stream",
     "text": [
      "Combined Null Entries: 0\n"
     ]
    }
   ],
   "source": [
    "print(f\"Combined Null Entries: {df.isnull().sum().sum()}\")"
   ]
  },
  {
   "cell_type": "markdown",
   "id": "19bd79f4",
   "metadata": {},
   "source": [
    "## Create categories"
   ]
  },
  {
   "cell_type": "code",
   "execution_count": 4,
   "id": "f55eca97",
   "metadata": {},
   "outputs": [],
   "source": [
    "api_key = input(\"Enter your OpenAI API key: \")\n",
    "client = OpenAI(api_key=api_key)\n",
    "category_string = create_category_string(\"metadata/categories.csv\")"
   ]
  },
  {
   "cell_type": "code",
   "execution_count": 6,
   "id": "7ad710cc",
   "metadata": {},
   "outputs": [],
   "source": [
    "test_items = [\n",
    "    \"Nintendo Switch\",\n",
    "    \"Halo 4 Artbook\",\n",
    "    \"Ironwolf Pro HDD 4TB\",\n",
    "    \"Notebook\",\n",
    "    \"Adobe Creative Cloud\",\n",
    "    \"Spotify Premium\",\n",
    "    \"Too Many Losing Heroines!!! 7\",\n",
    "    \"Makeine Season 1 DVD volume 1\"\n",
    "]"
   ]
  },
  {
   "cell_type": "code",
   "execution_count": null,
   "id": "d11173fe",
   "metadata": {},
   "outputs": [
    {
     "name": "stdout",
     "output_type": "stream",
     "text": [
      "Nintendo Switch Gaming\n",
      "Halo 4 Artbook Collectibles\n",
      "Ironwolf Pro HDD 4TB Electronics & Accessories\n",
      "Notebook Miscellaneous\n",
      "Adobe Creative Cloud Digital Subscriptions\n",
      "Spotify Premium Digital Subscriptions\n",
      "Too Many Losing Heroines!!! 7 Books & Literature\n",
      "Makeine Season 1 DVD volume 1 Movies & Media\n"
     ]
    }
   ],
   "source": [
    "for item in test_items:\n",
    "    print(f\"{item} [{classify_item(client, item, category_string)}\")"
   ]
  }
 ],
 "metadata": {
  "kernelspec": {
   "display_name": "venv",
   "language": "python",
   "name": "python3"
  },
  "language_info": {
   "codemirror_mode": {
    "name": "ipython",
    "version": 3
   },
   "file_extension": ".py",
   "mimetype": "text/x-python",
   "name": "python",
   "nbconvert_exporter": "python",
   "pygments_lexer": "ipython3",
   "version": "3.12.10"
  }
 },
 "nbformat": 4,
 "nbformat_minor": 5
}
