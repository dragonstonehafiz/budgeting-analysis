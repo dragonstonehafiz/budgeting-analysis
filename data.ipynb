{
 "cells": [
  {
   "cell_type": "markdown",
   "id": "c6a4d000",
   "metadata": {},
   "source": [
    "## Loading Data"
   ]
  },
  {
   "cell_type": "code",
   "execution_count": 1,
   "id": "2d8dfc0c",
   "metadata": {},
   "outputs": [],
   "source": [
    "import pandas as pd\n",
    "import os"
   ]
  },
  {
   "cell_type": "code",
   "execution_count": 2,
   "id": "64729815",
   "metadata": {},
   "outputs": [
    {
     "name": "stdout",
     "output_type": "stream",
     "text": [
      "Loaded 2018.csv with 112 rows. Null Entries: 0\n",
      "Loaded 2019.csv with 154 rows. Null Entries: 0\n",
      "Loaded 2020.csv with 109 rows. Null Entries: 0\n",
      "Loaded 2021.csv with 168 rows. Null Entries: 0\n",
      "Loaded 2022.csv with 135 rows. Null Entries: 0\n",
      "Loaded 2023.csv with 296 rows. Null Entries: 0\n",
      "Loaded 2024.csv with 216 rows. Null Entries: 0\n"
     ]
    }
   ],
   "source": [
    "if not os.path.exists(\"data\"):\n",
    "    os.makedirs(\"data\")\n",
    "    \n",
    "dfs = {}\n",
    "for filename in os.listdir(\"data\"):\n",
    "    if not filename.endswith(\".csv\"):\n",
    "        continue\n",
    "    if \"combined\" in filename:\n",
    "        continue\n",
    "    \n",
    "    path = os.path.join(\"data\", filename)\n",
    "    try:\n",
    "        df = pd.read_csv(path, encoding=\"utf-8\")\n",
    "    except UnicodeDecodeError:\n",
    "        df = pd.read_csv(path, encoding=\"cp1252\")\n",
    "    df[\"Date\"] = pd.to_datetime(df[\"Date\"], dayfirst=True)\n",
    "    df['Item'] = df['Item'].astype(str)\n",
    "    df['Category'] = df['Category'].astype(str)\n",
    "    \n",
    "    key = filename.removesuffix(\".csv\")\n",
    "    dfs[key] = df\n",
    "    print(f\"Loaded {filename} with {len(df)} rows. Null Entries: {df.isnull().sum().sum()}\")"
   ]
  },
  {
   "cell_type": "code",
   "execution_count": 3,
   "id": "522e2ac1",
   "metadata": {},
   "outputs": [
    {
     "name": "stdout",
     "output_type": "stream",
     "text": [
      "<class 'pandas.core.frame.DataFrame'>\n",
      "RangeIndex: 1190 entries, 0 to 1189\n",
      "Data columns (total 4 columns):\n",
      " #   Column    Non-Null Count  Dtype         \n",
      "---  ------    --------------  -----         \n",
      " 0   Item      1190 non-null   object        \n",
      " 1   Category  1190 non-null   object        \n",
      " 2   Cost      1190 non-null   float64       \n",
      " 3   Date      1190 non-null   datetime64[ns]\n",
      "dtypes: datetime64[ns](1), float64(1), object(2)\n",
      "memory usage: 37.3+ KB\n"
     ]
    }
   ],
   "source": [
    "combined = []\n",
    "for year, df in dfs.items():\n",
    "    df = df.copy()\n",
    "    combined.append(df)\n",
    "\n",
    "df_combined = pd.concat(combined, ignore_index=True)\n",
    "df_combined.info()\n",
    "df_combined.head()\n",
    "df_combined.to_csv(\"data/combined.csv\", index=False, encoding=\"utf-8\")"
   ]
  },
  {
   "cell_type": "markdown",
   "id": "19bd79f4",
   "metadata": {},
   "source": [
    "## Create categories"
   ]
  },
  {
   "cell_type": "code",
   "execution_count": 10,
   "id": "ab858cf9",
   "metadata": {},
   "outputs": [],
   "source": [
    "from openai import OpenAI"
   ]
  },
  {
   "cell_type": "code",
   "execution_count": 11,
   "id": "f55eca97",
   "metadata": {},
   "outputs": [],
   "source": [
    "api_key = input(\"Enter your OpenAI API key: \")\n",
    "client = OpenAI(api_key=api_key)"
   ]
  },
  {
   "cell_type": "code",
   "execution_count": 39,
   "id": "dc5faf75",
   "metadata": {},
   "outputs": [],
   "source": [
    "items = df_combined['Item'].unique()\n",
    "items_string = \"\\n\".join(items.tolist())\n",
    "\n",
    "system_prompt = f\"\"\"\n",
    "You are a helpful assistant that creates practical and intuitive categories for personal purchase items.\n",
    "Your task is to group items into a small set of consistent, human-friendly categories that would make sense for budgeting or spending review. \n",
    "You should be concise, avoid overly specific categories, and use everyday language.\n",
    "\"\"\"\n",
    "\n",
    "user_prompt = f\"\"\"\n",
    "I have a list of items from my personal purchase history. Please group them into intuitive, non-overlapping spending categories. Your task is to:\n",
    "\n",
    "1. Identify and list a practical set of categories to organize these purchases. Keep the number under 10.\n",
    "2. Make sure the categories are distinct — avoid overlapping groups. For example:\n",
    "   - Separate 'Gaming' (video games and in-game purchases) from 'Digital Subscriptions' (e.g. software, music services, cloud apps).\n",
    "   - Use 'Apparel' only for wearable clothing — do not include accessories like bags or watches unless they are strictly clothing-related.\n",
    "   - Combine 'Fitness', 'Health', and 'Personal Care' into a single category.\n",
    "   - Use 'Music & Soundtracks' for both physical and digital music/soundtrack purchases. Music streaming subscriptions should go under 'Digital Subscriptions'.\n",
    "   - Separate 'Books' into its own category — distinct from 'Entertainment' or 'Education'.\n",
    "   - Manga and light novels should be included under the 'Books & Literature' category.\n",
    "   - Group items clearly intended for collection (e.g. enamel pins, commemorative coins, special edition memorabilia) into a category called 'Collectibles'.\n",
    "   - Include artbooks that are themed around games, movies, or anime as part of the 'Collectibles' category (not 'Books').\n",
    "3. **Do not invent or include categories that are not clearly represented by actual examples from the item list.**\n",
    "\n",
    "For each category you do create, provide:\n",
    "- A short explanation of what kinds of items belong in it\n",
    "- Exactly 3 example items from my list that belong in that category\n",
    "\n",
    "Here is the list of items:\n",
    "\n",
    "{items_string}\n",
    "\n",
    "Please organize the response in this format:\n",
    "\n",
    "Category Details:\n",
    "- **[Category Name]**: [short explanation]  \n",
    "  Example items (Only 3): [item a], [item b], [item c]\n",
    "...\n",
    "\"\"\""
   ]
  },
  {
   "cell_type": "code",
   "execution_count": 40,
   "id": "1114a900",
   "metadata": {},
   "outputs": [],
   "source": [
    "response = client.chat.completions.create(\n",
    "    model=\"gpt-4o\",\n",
    "    messages=[\n",
    "        {\"role\": \"system\", \"content\": system_prompt},\n",
    "        {\"role\": \"user\", \"content\": user_prompt}\n",
    "    ],\n",
    "    temperature=0.2,\n",
    "    max_tokens=1000)"
   ]
  },
  {
   "cell_type": "code",
   "execution_count": 41,
   "id": "d655307e",
   "metadata": {},
   "outputs": [
    {
     "name": "stdout",
     "output_type": "stream",
     "text": [
      "Category Details:\n",
      "\n",
      "- **Food & Beverages**: Items related to meals, snacks, and drinks.  \n",
      "  Example items (Only 3): Waffle (NYP), Coke, Chicken Chop (AMK HUB)\n",
      "\n",
      "- **Books & Literature**: Physical and digital books, including manga and light novels.  \n",
      "  Example items (Only 3): Halo: Legacy of Onyx (Book), The Last Wish (Book), Sword Art Online Progressive 5 (Kindle)\n",
      "\n",
      "- **Entertainment**: Movies, movie tickets, and video games.  \n",
      "  Example items (Only 3): Thor: Ragnarok DVD, Avengers: Infinity War Tickets, Far Cry: New Dawn (Digital)\n",
      "\n",
      "- **Digital Subscriptions**: Recurring digital services and software subscriptions.  \n",
      "  Example items (Only 3): Netflix Subscription, Spotify Premium Subscription, Adobe Creative Cloud (Student Plan)\n",
      "\n",
      "- **Gaming**: Video games, in-game purchases, and gaming-related hardware.  \n",
      "  Example items (Only 3): $100 Xbox Gift Card, Destiny 2 - 3000 Silver, Xbox Series X\n",
      "\n",
      "- **Electronics & Accessories**: Gadgets, electronic accessories, and related items.  \n",
      "  Example items (Only 3): iLuv Earpiece, Laptop Charger Cable, Seagate 1TB Hard drive\n",
      "\n",
      "- **Health & Personal Care**: Items related to health, fitness, and personal grooming.  \n",
      "  Example items (Only 3): Hair Cut, Doctor Consultation, Fitness Tracker\n",
      "\n",
      "- **Collectibles**: Items intended for collection, including special edition memorabilia and artbooks.  \n",
      "  Example items (Only 3): Commemorative Coins, The Art of Halo 5: Guardians, Season of the Splicer Pin\n",
      "\n",
      "- **Stationery & Office Supplies**: Items used for writing, organizing, and office work.  \n",
      "  Example items (Only 3): Notepad and Erasers, Journal, Notebook + Pen\n",
      "\n",
      "- **Miscellaneous**: Items that don't fit into other categories, including household items and miscellaneous expenses.  \n",
      "  Example items (Only 3): Unaccounted for $4, EZ Link Add Money, Umbrella\n"
     ]
    }
   ],
   "source": [
    "lines = response.choices[0].message.content.split(\"\\n\")\n",
    "for line in lines:\n",
    "    print(line)"
   ]
  },
  {
   "cell_type": "markdown",
   "id": "655ea9c4",
   "metadata": {},
   "source": [
    "## Update CSVs with new categories"
   ]
  }
 ],
 "metadata": {
  "kernelspec": {
   "display_name": "venv",
   "language": "python",
   "name": "python3"
  },
  "language_info": {
   "codemirror_mode": {
    "name": "ipython",
    "version": 3
   },
   "file_extension": ".py",
   "mimetype": "text/x-python",
   "name": "python",
   "nbconvert_exporter": "python",
   "pygments_lexer": "ipython3",
   "version": "3.11.5"
  }
 },
 "nbformat": 4,
 "nbformat_minor": 5
}
