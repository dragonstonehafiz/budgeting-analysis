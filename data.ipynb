{
 "cells": [
  {
   "cell_type": "markdown",
   "id": "c6a4d000",
   "metadata": {},
   "source": [
    "## Loading Data"
   ]
  },
  {
   "cell_type": "code",
   "execution_count": 3,
   "id": "2d8dfc0c",
   "metadata": {},
   "outputs": [],
   "source": [
    "import pandas as pd\n",
    "import os"
   ]
  },
  {
   "cell_type": "code",
   "execution_count": 34,
   "id": "64729815",
   "metadata": {},
   "outputs": [
    {
     "name": "stdout",
     "output_type": "stream",
     "text": [
      "Loaded 2018.csv with 112 rows. Null Entries: 0\n",
      "Loaded 2019.csv with 154 rows. Null Entries: 0\n",
      "Loaded 2020.csv with 109 rows. Null Entries: 0\n",
      "Loaded 2021.csv with 168 rows. Null Entries: 0\n",
      "Loaded 2022.csv with 135 rows. Null Entries: 0\n",
      "Loaded 2023.csv with 296 rows. Null Entries: 0\n",
      "Loaded 2024.csv with 216 rows. Null Entries: 0\n"
     ]
    }
   ],
   "source": [
    "if not os.path.exists(\"data\"):\n",
    "    os.makedirs(\"data\")\n",
    "    \n",
    "dfs = {}\n",
    "for filename in os.listdir(\"data\"):\n",
    "    if not filename.endswith(\".csv\"):\n",
    "        continue\n",
    "    if \"combined\" in filename:\n",
    "        continue\n",
    "    \n",
    "    path = os.path.join(\"data\", filename)\n",
    "    try:\n",
    "        df = pd.read_csv(path, encoding=\"utf-8\")\n",
    "    except UnicodeDecodeError:\n",
    "        df = pd.read_csv(path, encoding=\"cp1252\")\n",
    "    df[\"Date\"] = pd.to_datetime(df[\"Date\"], dayfirst=True)\n",
    "    df['Item'] = df['Item'].astype(str)\n",
    "    df['Category'] = df['Category'].astype(str)\n",
    "    \n",
    "    key = filename.removesuffix(\".csv\")\n",
    "    dfs[key] = df\n",
    "    print(f\"Loaded {filename} with {len(df)} rows. Null Entries: {df.isnull().sum().sum()}\")"
   ]
  },
  {
   "cell_type": "code",
   "execution_count": 31,
   "id": "522e2ac1",
   "metadata": {},
   "outputs": [
    {
     "name": "stdout",
     "output_type": "stream",
     "text": [
      "<class 'pandas.core.frame.DataFrame'>\n",
      "RangeIndex: 1190 entries, 0 to 1189\n",
      "Data columns (total 4 columns):\n",
      " #   Column    Non-Null Count  Dtype         \n",
      "---  ------    --------------  -----         \n",
      " 0   Item      1190 non-null   object        \n",
      " 1   Category  1190 non-null   object        \n",
      " 2   Cost      1190 non-null   float64       \n",
      " 3   Date      1190 non-null   datetime64[ns]\n",
      "dtypes: datetime64[ns](1), float64(1), object(2)\n",
      "memory usage: 37.3+ KB\n"
     ]
    }
   ],
   "source": [
    "combined = []\n",
    "for year, df in dfs.items():\n",
    "    df = df.copy()\n",
    "    combined.append(df)\n",
    "\n",
    "df_combined = pd.concat(combined, ignore_index=True)\n",
    "df_combined.info()\n",
    "df_combined.head()\n",
    "df_combined.to_csv(\"data/combined.csv\", index=False, encoding=\"utf-8\")"
   ]
  }
 ],
 "metadata": {
  "kernelspec": {
   "display_name": "venv",
   "language": "python",
   "name": "python3"
  },
  "language_info": {
   "codemirror_mode": {
    "name": "ipython",
    "version": 3
   },
   "file_extension": ".py",
   "mimetype": "text/x-python",
   "name": "python",
   "nbconvert_exporter": "python",
   "pygments_lexer": "ipython3",
   "version": "3.11.5"
  }
 },
 "nbformat": 4,
 "nbformat_minor": 5
}
