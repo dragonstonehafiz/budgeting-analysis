{
 "cells": [
  {
   "cell_type": "code",
   "execution_count": 1,
   "id": "3e2d8e6b",
   "metadata": {},
   "outputs": [],
   "source": [
    "import pandas as pd\n",
    "import openpyxl\n",
    "\n",
    "from src.xlsx_handler import xlsx_init_column, xlsx_format_rows, xlsx_create_category_dv, xlsx_create_category_cf"
   ]
  },
  {
   "cell_type": "code",
   "execution_count": 2,
   "id": "addc554a",
   "metadata": {},
   "outputs": [],
   "source": [
    "xlsx_path = \"data/purchases.xlsx\""
   ]
  },
  {
   "cell_type": "markdown",
   "id": "bef1bd95",
   "metadata": {},
   "source": [
    "## Loading data"
   ]
  },
  {
   "cell_type": "code",
   "execution_count": 3,
   "id": "6aea5590",
   "metadata": {},
   "outputs": [
    {
     "data": {
      "text/html": [
       "<div>\n",
       "<style scoped>\n",
       "    .dataframe tbody tr th:only-of-type {\n",
       "        vertical-align: middle;\n",
       "    }\n",
       "\n",
       "    .dataframe tbody tr th {\n",
       "        vertical-align: top;\n",
       "    }\n",
       "\n",
       "    .dataframe thead th {\n",
       "        text-align: right;\n",
       "    }\n",
       "</style>\n",
       "<table border=\"1\" class=\"dataframe\">\n",
       "  <thead>\n",
       "    <tr style=\"text-align: right;\">\n",
       "      <th></th>\n",
       "      <th>Item</th>\n",
       "      <th>Category</th>\n",
       "      <th>Cost</th>\n",
       "      <th>Date</th>\n",
       "      <th>Month</th>\n",
       "      <th>MonthNum</th>\n",
       "      <th>Year</th>\n",
       "    </tr>\n",
       "  </thead>\n",
       "  <tbody>\n",
       "    <tr>\n",
       "      <th>1439</th>\n",
       "      <td>Reading Glasses Case</td>\n",
       "      <td>Health &amp; Personal Care</td>\n",
       "      <td>9.36</td>\n",
       "      <td>2025-04-23</td>\n",
       "      <td>April</td>\n",
       "      <td>4</td>\n",
       "      <td>2025</td>\n",
       "    </tr>\n",
       "    <tr>\n",
       "      <th>1440</th>\n",
       "      <td>IronWolf Pro 8TB</td>\n",
       "      <td>Electronics &amp; Accessories</td>\n",
       "      <td>347.99</td>\n",
       "      <td>2025-04-23</td>\n",
       "      <td>April</td>\n",
       "      <td>4</td>\n",
       "      <td>2025</td>\n",
       "    </tr>\n",
       "    <tr>\n",
       "      <th>1441</th>\n",
       "      <td>Gakumas Lilja CDs &amp; Beyond the Boundary Radio CD</td>\n",
       "      <td>Music &amp; Audio</td>\n",
       "      <td>78.30</td>\n",
       "      <td>2025-04-26</td>\n",
       "      <td>April</td>\n",
       "      <td>4</td>\n",
       "      <td>2025</td>\n",
       "    </tr>\n",
       "  </tbody>\n",
       "</table>\n",
       "</div>"
      ],
      "text/plain": [
       "                                                  Item  \\\n",
       "1439                              Reading Glasses Case   \n",
       "1440                                  IronWolf Pro 8TB   \n",
       "1441  Gakumas Lilja CDs & Beyond the Boundary Radio CD   \n",
       "\n",
       "                       Category    Cost       Date  Month  MonthNum  Year  \n",
       "1439     Health & Personal Care    9.36 2025-04-23  April         4  2025  \n",
       "1440  Electronics & Accessories  347.99 2025-04-23  April         4  2025  \n",
       "1441              Music & Audio   78.30 2025-04-26  April         4  2025  "
      ]
     },
     "execution_count": 3,
     "metadata": {},
     "output_type": "execute_result"
    }
   ],
   "source": [
    "df = pd.read_excel(xlsx_path)\n",
    "df.tail(3)"
   ]
  },
  {
   "cell_type": "code",
   "execution_count": 4,
   "id": "f79bf5cf",
   "metadata": {},
   "outputs": [
    {
     "name": "stdout",
     "output_type": "stream",
     "text": [
      "Electronics & Accessories\n",
      "Food & Beverages\n",
      "Movies & Media\n",
      "Miscellaneous\n",
      "Books & Literature\n",
      "Gaming\n",
      "Collectibles\n",
      "Digital Subscriptions\n",
      "Music & Audio\n",
      "Health & Personal Care\n",
      "Clothing & Apparel\n"
     ]
    }
   ],
   "source": [
    "cats = \"\\n\".join(df[\"Category\"].unique())\n",
    "print(cats)"
   ]
  },
  {
   "cell_type": "markdown",
   "id": "75fa542c",
   "metadata": {},
   "source": [
    "## Formatting Cells"
   ]
  },
  {
   "cell_type": "code",
   "execution_count": 5,
   "id": "26aa8acd",
   "metadata": {},
   "outputs": [],
   "source": [
    "wb = openpyxl.load_workbook(xlsx_path)\n",
    "ws = wb.worksheets[0]\n",
    "ws.auto_filter.ref = \"A1:G1\""
   ]
  },
  {
   "cell_type": "code",
   "execution_count": 6,
   "id": "863fdc0a",
   "metadata": {},
   "outputs": [
    {
     "name": "stderr",
     "output_type": "stream",
     "text": [
      "100%|██████████| 1591/1591 [00:00<00:00, 3234.11it/s]\n"
     ]
    }
   ],
   "source": [
    "# Set column defaults\n",
    "xlsx_init_column(ws, \"A\", \"Item\", 15)\n",
    "xlsx_init_column(ws, \"B\", \"Category\", 15)\n",
    "xlsx_init_column(ws, \"C\", \"Cost\", 10)\n",
    "xlsx_init_column(ws, \"D\", \"Date\", 12)\n",
    "xlsx_init_column(ws, \"E\", \"Month\", 7)\n",
    "xlsx_init_column(ws, \"F\", \"MonthNum\", 5)\n",
    "xlsx_init_column(ws, \"G\", \"Year\", 10)\n",
    "\n",
    "# Create category dropdown\n",
    "xlsx_create_category_dv(ws, \"B\")\n",
    "\n",
    "# Create conditional formatting for category\n",
    "xlsx_create_category_cf(ws, \"B\")\n",
    "\n",
    "# Format rows\n",
    "xlsx_format_rows(ws)"
   ]
  },
  {
   "cell_type": "code",
   "execution_count": 7,
   "id": "c966f96f",
   "metadata": {},
   "outputs": [],
   "source": [
    "wb.save(\"temp2.xlsx\")"
   ]
  }
 ],
 "metadata": {
  "kernelspec": {
   "display_name": "venv",
   "language": "python",
   "name": "python3"
  },
  "language_info": {
   "codemirror_mode": {
    "name": "ipython",
    "version": 3
   },
   "file_extension": ".py",
   "mimetype": "text/x-python",
   "name": "python",
   "nbconvert_exporter": "python",
   "pygments_lexer": "ipython3",
   "version": "3.12.10"
  }
 },
 "nbformat": 4,
 "nbformat_minor": 5
}
